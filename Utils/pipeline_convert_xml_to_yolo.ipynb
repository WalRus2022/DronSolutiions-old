{
 "cells": [
  {
   "cell_type": "code",
   "execution_count": 2,
   "metadata": {},
   "outputs": [],
   "source": [
    "import os\n",
    "import pandas as pd\n",
    "import numpy as np\n",
    "import xml.etree.cElementTree as et\n"
   ]
  },
  {
   "cell_type": "code",
   "execution_count": 3,
   "metadata": {},
   "outputs": [
    {
     "name": "stdout",
     "output_type": "stream",
     "text": [
      "work_path is OK!\n",
      "images_path is OK!\n",
      "annot_path is OK!\n",
      "convert_annot_path is OK!\n"
     ]
    }
   ],
   "source": [
    "root =  os.path.abspath(os.path.curdir)\n",
    "work_path = os.path.join (root, 'Dataset', 'AFO_before')\n",
    "images_path = os.path.join(work_path, 'AFO_images')\n",
    "annot_path = os.path.join(work_path, 'AFO_labels_XML')\n",
    "convert_annot_path = os.path.join(work_path, 'AFO_labels_txt')\n",
    "if os.path.exists(work_path):\n",
    "    print('work_path is OK!')\n",
    "else:\n",
    "    print('work_path not Exists!')        \n",
    "if os.path.exists(images_path):\n",
    "    print('images_path is OK!')\n",
    "else:\n",
    "    print('images_path not Exists!')        \n",
    "if os.path.exists(annot_path):\n",
    "    print('annot_path is OK!')\n",
    "else:\n",
    "    print('annot_path not Exists!')        \n",
    "if os.path.exists(convert_annot_path):\n",
    "    print('convert_annot_path is OK!')    \n",
    "else:\n",
    "    print('convert_annot_path not Exists!')        \n"
   ]
  },
  {
   "cell_type": "code",
   "execution_count": 4,
   "metadata": {},
   "outputs": [],
   "source": [
    "def get_annot_pandas(filename):\n",
    "    tree=et.parse(filename)\n",
    "    root=tree.getroot()\n",
    "    class_list = []\n",
    "    fname = os.path.split(filename)[-1]\n",
    "    # print(fname)\n",
    "    df_annot = pd.DataFrame(columns=['filename', 'object_class','x', 'y','w', 'h'])\n",
    "    for element in root:\n",
    "        if element.tag =='size':\n",
    "            for item in element:\n",
    "                if item.tag == 'width':\n",
    "                    w = int(item.text)\n",
    "                if item.tag == 'height':\n",
    "                    h = int(item.text)\n",
    "        if element.tag =='object':\n",
    "            for item in element:\n",
    "                if item.tag == 'name':\n",
    "                    class_name = item.text.replace('/','_')\n",
    "                    if not(class_name in class_list):\n",
    "                        class_list.append(class_name)\n",
    "                if item.tag == 'bndbox':\n",
    "                    for ancor in item:\n",
    "                        if ancor.tag =='xmin':\n",
    "                            l = int (ancor.text)\n",
    "                        if ancor.tag =='ymin':\n",
    "                            t = int (ancor.text)\n",
    "                        if ancor.tag =='xmax':\n",
    "                            r = int (ancor.text)\n",
    "                        if ancor.tag =='ymax':\n",
    "                            b = int (ancor.text)\n",
    "                    object_w = (r-l)/w\n",
    "                    object_h = (b-t)/h\n",
    "                    object_x = (l+(r-l)/2)/w\n",
    "                    object_y = (t+(b-t)/2)/h\n",
    "            # print(class_name, object_x,object_y,object_w,object_h)    \n",
    "            df_annot.loc[df_annot.size]=[fname, class_name, object_x,object_y,object_w,object_h]                        \n",
    "    return df_annot"
   ]
  },
  {
   "cell_type": "code",
   "execution_count": 5,
   "metadata": {},
   "outputs": [
    {
     "data": {
      "text/html": [
       "<div>\n",
       "<style scoped>\n",
       "    .dataframe tbody tr th:only-of-type {\n",
       "        vertical-align: middle;\n",
       "    }\n",
       "\n",
       "    .dataframe tbody tr th {\n",
       "        vertical-align: top;\n",
       "    }\n",
       "\n",
       "    .dataframe thead th {\n",
       "        text-align: right;\n",
       "    }\n",
       "</style>\n",
       "<table border=\"1\" class=\"dataframe\">\n",
       "  <thead>\n",
       "    <tr style=\"text-align: right;\">\n",
       "      <th></th>\n",
       "      <th>filename</th>\n",
       "      <th>object_class</th>\n",
       "      <th>x</th>\n",
       "      <th>y</th>\n",
       "      <th>w</th>\n",
       "      <th>h</th>\n",
       "    </tr>\n",
       "  </thead>\n",
       "  <tbody>\n",
       "    <tr>\n",
       "      <th>0</th>\n",
       "      <td>av_1381.xml</td>\n",
       "      <td>human</td>\n",
       "      <td>0.341146</td>\n",
       "      <td>0.503704</td>\n",
       "      <td>0.013542</td>\n",
       "      <td>0.024074</td>\n",
       "    </tr>\n",
       "    <tr>\n",
       "      <th>6</th>\n",
       "      <td>av_1381.xml</td>\n",
       "      <td>human_west</td>\n",
       "      <td>0.377995</td>\n",
       "      <td>0.355556</td>\n",
       "      <td>0.020052</td>\n",
       "      <td>0.019444</td>\n",
       "    </tr>\n",
       "    <tr>\n",
       "      <th>12</th>\n",
       "      <td>av_1381.xml</td>\n",
       "      <td>human_west</td>\n",
       "      <td>0.416146</td>\n",
       "      <td>0.397917</td>\n",
       "      <td>0.015104</td>\n",
       "      <td>0.029167</td>\n",
       "    </tr>\n",
       "    <tr>\n",
       "      <th>18</th>\n",
       "      <td>av_1381.xml</td>\n",
       "      <td>human</td>\n",
       "      <td>0.474349</td>\n",
       "      <td>0.281944</td>\n",
       "      <td>0.020573</td>\n",
       "      <td>0.027778</td>\n",
       "    </tr>\n",
       "    <tr>\n",
       "      <th>24</th>\n",
       "      <td>av_1381.xml</td>\n",
       "      <td>human_west</td>\n",
       "      <td>0.456250</td>\n",
       "      <td>0.471759</td>\n",
       "      <td>0.017188</td>\n",
       "      <td>0.042593</td>\n",
       "    </tr>\n",
       "    <tr>\n",
       "      <th>30</th>\n",
       "      <td>av_1381.xml</td>\n",
       "      <td>human</td>\n",
       "      <td>0.493620</td>\n",
       "      <td>0.504630</td>\n",
       "      <td>0.020573</td>\n",
       "      <td>0.025926</td>\n",
       "    </tr>\n",
       "    <tr>\n",
       "      <th>36</th>\n",
       "      <td>av_1381.xml</td>\n",
       "      <td>human</td>\n",
       "      <td>0.504818</td>\n",
       "      <td>0.556481</td>\n",
       "      <td>0.032031</td>\n",
       "      <td>0.046296</td>\n",
       "    </tr>\n",
       "    <tr>\n",
       "      <th>42</th>\n",
       "      <td>av_1381.xml</td>\n",
       "      <td>human</td>\n",
       "      <td>0.444271</td>\n",
       "      <td>0.667130</td>\n",
       "      <td>0.016146</td>\n",
       "      <td>0.034259</td>\n",
       "    </tr>\n",
       "    <tr>\n",
       "      <th>48</th>\n",
       "      <td>av_1381.xml</td>\n",
       "      <td>human_west</td>\n",
       "      <td>0.548438</td>\n",
       "      <td>0.528704</td>\n",
       "      <td>0.021875</td>\n",
       "      <td>0.025926</td>\n",
       "    </tr>\n",
       "    <tr>\n",
       "      <th>54</th>\n",
       "      <td>av_1381.xml</td>\n",
       "      <td>human_west</td>\n",
       "      <td>0.584115</td>\n",
       "      <td>0.501620</td>\n",
       "      <td>0.024479</td>\n",
       "      <td>0.062500</td>\n",
       "    </tr>\n",
       "  </tbody>\n",
       "</table>\n",
       "</div>"
      ],
      "text/plain": [
       "       filename object_class         x         y         w         h\n",
       "0   av_1381.xml        human  0.341146  0.503704  0.013542  0.024074\n",
       "6   av_1381.xml   human_west  0.377995  0.355556  0.020052  0.019444\n",
       "12  av_1381.xml   human_west  0.416146  0.397917  0.015104  0.029167\n",
       "18  av_1381.xml        human  0.474349  0.281944  0.020573  0.027778\n",
       "24  av_1381.xml   human_west  0.456250  0.471759  0.017188  0.042593\n",
       "30  av_1381.xml        human  0.493620  0.504630  0.020573  0.025926\n",
       "36  av_1381.xml        human  0.504818  0.556481  0.032031  0.046296\n",
       "42  av_1381.xml        human  0.444271  0.667130  0.016146  0.034259\n",
       "48  av_1381.xml   human_west  0.548438  0.528704  0.021875  0.025926\n",
       "54  av_1381.xml   human_west  0.584115  0.501620  0.024479  0.062500"
      ]
     },
     "metadata": {},
     "output_type": "display_data"
    },
    {
     "name": "stdout",
     "output_type": "stream",
     "text": [
      "Найдено 1704 файлов\n"
     ]
    }
   ],
   "source": [
    "img_extension = ['.jpg']\n",
    "ann_extension = ['.xml']\n",
    "ann_txt_exten = ['.txt']\n",
    "filelist = []\n",
    "df_summary = None\n",
    "for root, directories, filenames in os.walk(images_path, topdown=True):\n",
    "    for filename in filenames[:]:\n",
    "        _, ext = os.path.splitext(filename)\n",
    "        if ext in img_extension:\n",
    "            filelist.append(os.path.join(root, filename)) \n",
    "            name, ext = os.path.splitext(filename)\n",
    "            filename = f'{name}{ann_extension[0]}'\n",
    "            fname = os.path.join(annot_path, filename)\n",
    "            if os.path.isfile(fname):\n",
    "                df = get_annot_pandas(fname)\n",
    "                if df_summary is None:\n",
    "                    df_summary = df\n",
    "                else:\n",
    "                    df_summary = pd.concat((df_summary, df))\n",
    "                    \n",
    "            \n",
    "display(df_summary.head(10))            \n",
    "print(f'Найдено {len(filelist)} файлов')\n"
   ]
  },
  {
   "cell_type": "code",
   "execution_count": 6,
   "metadata": {},
   "outputs": [
    {
     "data": {
      "text/plain": [
       "human              8165\n",
       "human_west         5852\n",
       "boat               3517\n",
       "human_boat_west    2315\n",
       "human_boat          962\n",
       "bouy                605\n",
       "Name: object_class, dtype: int64"
      ]
     },
     "execution_count": 6,
     "metadata": {},
     "output_type": "execute_result"
    }
   ],
   "source": [
    "df_summary['object_class'].value_counts(dropna=False)"
   ]
  },
  {
   "cell_type": "code",
   "execution_count": 8,
   "metadata": {},
   "outputs": [],
   "source": [
    "convert_dict = {'human_boat': 2 , 'human_boat_west': 3 , 'boat': 4,'human': 0, 'human_west': 1, 'bouy':5 }"
   ]
  },
  {
   "cell_type": "code",
   "execution_count": 9,
   "metadata": {},
   "outputs": [],
   "source": [
    "df_summary = df_summary.replace({\"object_class\": convert_dict})"
   ]
  },
  {
   "cell_type": "code",
   "execution_count": 10,
   "metadata": {},
   "outputs": [
    {
     "data": {
      "text/plain": [
       "0    8165\n",
       "1    5852\n",
       "4    3517\n",
       "3    2315\n",
       "2     962\n",
       "5     605\n",
       "Name: object_class, dtype: int64"
      ]
     },
     "execution_count": 10,
     "metadata": {},
     "output_type": "execute_result"
    }
   ],
   "source": [
    "df_summary['object_class'].value_counts(dropna=False)"
   ]
  },
  {
   "cell_type": "code",
   "execution_count": 12,
   "metadata": {},
   "outputs": [],
   "source": [
    "for filename in df_summary['filename'].values[:]:\n",
    "    name, ext = os.path.splitext(filename)\n",
    "    fname = f'{name}{ann_txt_exten[0]}'\n",
    "    df_one = df_summary.loc[df_summary['filename'] ==filename]\n",
    "    filepath = os.path.join(convert_annot_path, fname)\n",
    "    df_one[['object_class', 'x','y','w','h']].to_csv(filepath,header=False, index=False, sep=' ')\n",
    "    # display(df_one)"
   ]
  }
 ],
 "metadata": {
  "kernelspec": {
   "display_name": ".venv",
   "language": "python",
   "name": "python3"
  },
  "language_info": {
   "codemirror_mode": {
    "name": "ipython",
    "version": 3
   },
   "file_extension": ".py",
   "mimetype": "text/x-python",
   "name": "python",
   "nbconvert_exporter": "python",
   "pygments_lexer": "ipython3",
   "version": "3.9.13"
  },
  "orig_nbformat": 4,
  "vscode": {
   "interpreter": {
    "hash": "b4d66eb6c001b993ac02916de5677641147e2de33be9ba18f6a1ebd32c5e99c0"
   }
  }
 },
 "nbformat": 4,
 "nbformat_minor": 2
}
